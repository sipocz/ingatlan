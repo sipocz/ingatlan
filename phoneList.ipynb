{
  "nbformat": 4,
  "nbformat_minor": 0,
  "metadata": {
    "colab": {
      "name": "phoneList.ipynb",
      "provenance": [],
      "authorship_tag": "ABX9TyOJ9X9sX2qPb8nwQgKaqlmF",
      "include_colab_link": true
    },
    "kernelspec": {
      "name": "python3",
      "display_name": "Python 3"
    }
  },
  "cells": [
    {
      "cell_type": "markdown",
      "metadata": {
        "id": "view-in-github",
        "colab_type": "text"
      },
      "source": [
        "<a href=\"https://colab.research.google.com/github/sipocz/ingatlan/blob/master/phoneList.ipynb\" target=\"_parent\"><img src=\"https://colab.research.google.com/assets/colab-badge.svg\" alt=\"Open In Colab\"/></a>"
      ]
    },
    {
      "cell_type": "code",
      "metadata": {
        "id": "ZoILx0zcnUVF",
        "colab_type": "code",
        "colab": {
          "base_uri": "https://localhost:8080/",
          "height": 67
        },
        "outputId": "6b4dcf5b-0eee-48be-b86d-0e539e0b5f33"
      },
      "source": [
        "import requests\n",
        "from bs4 import  BeautifulSoup\n",
        "\n",
        "\n",
        "\n",
        "\n",
        "def queryphone(url):\n",
        " \n",
        "    res=requests.get(url)\n",
        "    #print (res.text)\n",
        "    soup=BeautifulSoup(res.text,\"html.parser\")\n",
        "    out=[]\n",
        "    phonelist=soup.find_all(\"p\", class_=\"phone lead\")\n",
        "    #print(phonelist[1].text)\n",
        "    agentlist=soup.find_all(\"div\", class_=\"agentName\")\n",
        "    #print(agentlist[0].text)\n",
        "    out.append([agentlist[0].text,phonelist[1].text])\n",
        "    return(out)\n",
        "\n",
        "\n",
        "    print(\"----------------  END  ------------------------\")\n",
        "\n",
        "\n",
        "print(queryphone(\"https://www.startlak.hu/ingatlan/elado+csaladi-haz+esztergom+csendes-nyugott-festoi/6783801\"))\n",
        "\n",
        "\n",
        "\n",
        "\n",
        "\n",
        "\n",
        "\n"
      ],
      "execution_count": 7,
      "outputs": [
        {
          "output_type": "stream",
          "text": [
            " +36-(30) 7853468\n",
            "Katona Ottó\n",
            "[['Katona Ottó', ' +36-(30) 7853468']]\n"
          ],
          "name": "stdout"
        }
      ]
    }
  ]
}