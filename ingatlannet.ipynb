{
  "nbformat": 4,
  "nbformat_minor": 0,
  "metadata": {
    "colab": {
      "name": "ingatlannet.ipynb",
      "provenance": [],
      "authorship_tag": "ABX9TyMCYQ8nZUXWOzqMO7COJ8ba",
      "include_colab_link": true
    },
    "kernelspec": {
      "name": "python3",
      "display_name": "Python 3"
    },
    "language_info": {
      "name": "python"
    }
  },
  "cells": [
    {
      "cell_type": "markdown",
      "metadata": {
        "id": "view-in-github",
        "colab_type": "text"
      },
      "source": [
        "<a href=\"https://colab.research.google.com/github/sipocz/ingatlan/blob/master/ingatlannet.ipynb\" target=\"_parent\"><img src=\"https://colab.research.google.com/assets/colab-badge.svg\" alt=\"Open In Colab\"/></a>"
      ]
    },
    {
      "cell_type": "code",
      "metadata": {
        "id": "Lh8XU3UFDZoY"
      },
      "source": [
        "from flask import Flask\n",
        "from flask import render_template_string\n",
        "import os\n",
        "app = Flask(__name__)\n",
        "\n",
        "import requests\n",
        "from bs4 import  BeautifulSoup"
      ],
      "execution_count": 4,
      "outputs": []
    },
    {
      "cell_type": "code",
      "metadata": {
        "id": "alW7HbT2Ca6B"
      },
      "source": [
        "def ingatlannet_pages(city):\n",
        "    \n",
        "\n",
        "    header={'User-Agent':\"Mozilla/5.0 (Windows NT 10.0; Win64; x64) AppleWebKit/537.36 (KHTML, like Gecko) Chrome/86.0.4240.75 Safari/537.36\"}\n",
        "    url0=\"https://www.ingatlannet.hu/elad%C3%B3/h%C3%A1z/\"\n",
        "\n",
        "\n",
        "    url=url0+city+\"?page=1&per-page=25&sort=-ar\"\n",
        "    \n",
        "    res=requests.get(url,headers=header)\n",
        "    \n",
        "    soup=BeautifulSoup(res.text,\"html.parser\")\n",
        "    pages=soup.find_all(\"div\",class_=\"text-center page-counter \")\n",
        "    \n",
        "    pages_txt=pages[0].text.strip()\n",
        "    \n",
        "    pages_num=pages_txt.split(\" \")\n",
        "   \n",
        "    \n",
        "    pages_num=pages_num[0]\n",
        "    \n",
        "    pages_num=pages_num.split(\"/\")[1]\n",
        "    pages_num_int=int(pages_num)\n",
        "    if pages_num_int>30:\n",
        "       pages_num_int=1\n",
        "    return(pages_num)\n"
      ],
      "execution_count": 44,
      "outputs": []
    },
    {
      "cell_type": "code",
      "metadata": {
        "colab": {
          "base_uri": "https://localhost:8080/"
        },
        "id": "_Y_qLlOsDOET",
        "outputId": "9477cfe2-d4ab-4e9a-9618-2c540a338528"
      },
      "source": [
        "print(ingatlannet_pages(\"esztergom\"))"
      ],
      "execution_count": 45,
      "outputs": [
        {
          "output_type": "stream",
          "name": "stdout",
          "text": [
            "8\n"
          ]
        }
      ]
    }
  ]
}